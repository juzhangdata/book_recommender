{
 "cells": [
  {
   "cell_type": "code",
   "execution_count": 1,
   "metadata": {},
   "outputs": [
    {
     "name": "stdout",
     "output_type": "stream",
     "text": [
      "Movies we will recommend:\n",
      "                         title                 genre    rating\n",
      "movie_id                                                      \n",
      "12                  Horrorfest                horror  4.839613\n",
      "6            Attack on Earth 1        sci-fi, action  4.834265\n",
      "5         The Big City Judge 2           legal drama  4.767792\n",
      "13               The Sheriff 3  crime drama, western  4.734743\n",
      "3                The Sheriff 2  crime drama, western  4.664469\n"
     ]
    }
   ],
   "source": [
    "user_id_to_search = 1\n",
    "\n",
    "import pickle\n",
    "import pandas as pd\n",
    "\n",
    "# Load prediction rules from data files\n",
    "U = pickle.load(open(\"user_features.dat\", \"rb\"))\n",
    "M = pickle.load(open(\"product_features.dat\", \"rb\"))\n",
    "predicted_ratings = pickle.load(open(\"predicted_ratings.dat\", \"rb\"))\n",
    "\n",
    "# Load movie titles\n",
    "movies_df = pd.read_csv('../data/raw/movies.csv', index_col='movie_id')\n",
    "\n",
    "print(\"Movies we will recommend:\")\n",
    "\n",
    "user_ratings = predicted_ratings[user_id_to_search - 1]\n",
    "movies_df['rating'] = user_ratings\n",
    "movies_df = movies_df.sort_values(by=['rating'], ascending=False)\n",
    "\n",
    "print(movies_df[['title', 'genre', 'rating']].head(5))"
   ]
  }
 ],
 "metadata": {
  "kernelspec": {
   "display_name": "Python 3",
   "language": "python",
   "name": "python3"
  },
  "language_info": {
   "codemirror_mode": {
    "name": "ipython",
    "version": 3
   },
   "file_extension": ".py",
   "mimetype": "text/x-python",
   "name": "python",
   "nbconvert_exporter": "python",
   "pygments_lexer": "ipython3",
   "version": "3.6.5"
  }
 },
 "nbformat": 4,
 "nbformat_minor": 2
}
