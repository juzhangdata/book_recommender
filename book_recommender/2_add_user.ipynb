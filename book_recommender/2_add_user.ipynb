{
 "cells": [
  {
   "cell_type": "code",
   "execution_count": 1,
   "metadata": {},
   "outputs": [],
   "source": [
    "import pandas as pd\n",
    "import re"
   ]
  },
  {
   "cell_type": "code",
   "execution_count": 2,
   "metadata": {},
   "outputs": [],
   "source": [
    "# function to format movie title input, keeping only characters, numbers and spaces, and lowercase it\n",
    "def clean(a):\n",
    "    return re.sub(r'([^\\s\\w]|_)+', '', a).lower().title"
   ]
  },
  {
   "cell_type": "code",
   "execution_count": 3,
   "metadata": {},
   "outputs": [
    {
     "name": "stdout",
     "output_type": "stream",
     "text": [
      "   movie_id                  title                 genre\n",
      "0         1          the sheriff 1  crime drama, western\n",
      "1         2   the big city judge 1           legal drama\n",
      "2         3          the sheriff 2  crime drama, western\n",
      "3         4  just a regular family               reality\n",
      "4         5   the big city judge 2           legal drama\n"
     ]
    }
   ],
   "source": [
    "movie_df = pd.read_csv(\"../data/raw/movies.csv\")\n",
    "\n",
    "# lowercase all titles in movie_df, getting ready for searching for user input\n",
    "movie_df.title = movie_df.title.str.lower()\n",
    "print(movie_df.head())"
   ]
  },
  {
   "cell_type": "code",
   "execution_count": 4,
   "metadata": {},
   "outputs": [
    {
     "name": "stdout",
     "output_type": "stream",
     "text": [
      "   user_id  movie_id  value\n",
      "0        1        28      4\n",
      "1        1        26      4\n",
      "2        1         9      4\n",
      "3        1         1      4\n",
      "4        1        14      4\n"
     ]
    }
   ],
   "source": [
    "rating_df = pd.read_csv(\"../data/raw/movie_ratings_data_set.csv\")\n",
    "print(rating_df.head())"
   ]
  },
  {
   "cell_type": "code",
   "execution_count": 5,
   "metadata": {},
   "outputs": [],
   "source": [
    "# create new user\n",
    "# add 1 to max user_id to create new user_id\n",
    "user_id = rating_df[\"user_id\"].max() + 1\n",
    "user_list = []\n",
    "movie_list = []\n",
    "rating_list = []"
   ]
  },
  {
   "cell_type": "code",
   "execution_count": 6,
   "metadata": {},
   "outputs": [],
   "source": [
    "# movie_input = \"Biker gangs@\"\n",
    "# rating_input = \"3\""
   ]
  },
  {
   "cell_type": "code",
   "execution_count": 7,
   "metadata": {},
   "outputs": [],
   "source": [
    "def rate_a_book():\n",
    "    # get a movie title from user, and clean it\n",
    "    print(\"What's the title of the movie you want to rate? (you can rate as many movies as you like)? For example, Biker Gangs.\", \"\\n\")\n",
    "    movie_input = input()\n",
    "    movie_input = clean(movie_input)\n",
    "\n",
    "    # get a movie rating from user\n",
    "    print(f\"c\", \"\\n\")\n",
    "    rating_input = int(input())\n",
    "\n",
    "    # use movie_input to get movie_id\n",
    "    movie_id = movie_df[movie_df[\"title\"] == movie_input][\"movie_id\"].tolist()[0]\n",
    "\n",
    "    user_list.append(user_id)\n",
    "    movie_list.append(movie_id)\n",
    "    rating_list.append(rating_input)"
   ]
  },
  {
   "cell_type": "code",
   "execution_count": 8,
   "metadata": {},
   "outputs": [
    {
     "name": "stdout",
     "output_type": "stream",
     "text": [
      "What's the title of the movie you want to rate? (you can rate as many movies as you like)? For example, Biker Gangs. \n",
      "\n",
      "biker gangs\n",
      "From 1 to 5, how many stars will you rate this movie, <<Biker Gangs>>? For example, 3. \n",
      "\n",
      "3\n",
      "Your rating is saved. Rate another book? yes | no\n",
      "no\n"
     ]
    }
   ],
   "source": [
    "continue_or_not = \"yes\"\n",
    "while continue_or_not == \"yes\":\n",
    "    rate_a_book()\n",
    "    print(\"Your rating is saved. Rate another book? yes/no\")\n",
    "    continue_or_not = input().lower()"
   ]
  },
  {
   "cell_type": "code",
   "execution_count": 11,
   "metadata": {},
   "outputs": [],
   "source": [
    "new_rating_df = pd.DataFrame(\n",
    "{\n",
    "    \"user_id\": user_list,\n",
    "    \"movie_id\": movie_list, \n",
    "    \"value\": rating_list\n",
    "})\n",
    "new_rating_df.to_csv(\"../data/not_raw/new_rating.csv\", index=False)\n",
    "\n",
    "all_rating_df = rating_df.append(new_rating_df).reset_index(drop=True)\n",
    "all_rating_df.to_csv(\"../data/not_raw/all_rating.csv\", index=False)"
   ]
  },
  {
   "cell_type": "code",
   "execution_count": 12,
   "metadata": {},
   "outputs": [
    {
     "name": "stdout",
     "output_type": "stream",
     "text": [
      "Great! We have all your ratings.\n",
      "Here are our recommendations for you:\n"
     ]
    }
   ],
   "source": [
    "print(\"Great! We have all your ratings.\")\n",
    "print(\"Here are our recommendations for you:\")"
   ]
  }
 ],
 "metadata": {
  "kernelspec": {
   "display_name": "PythonData",
   "language": "python",
   "name": "my_env"
  },
  "language_info": {
   "codemirror_mode": {
    "name": "ipython",
    "version": 3
   },
   "file_extension": ".py",
   "mimetype": "text/x-python",
   "name": "python",
   "nbconvert_exporter": "python",
   "pygments_lexer": "ipython3",
   "version": "3.6.5"
  }
 },
 "nbformat": 4,
 "nbformat_minor": 2
}
