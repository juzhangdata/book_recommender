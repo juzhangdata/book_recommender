{
 "cells": [
  {
   "cell_type": "code",
   "execution_count": 1,
   "metadata": {},
   "outputs": [],
   "source": [
    "import numpy as np\n",
    "import pandas as pd\n",
    "import pickle\n",
    "import functions\n",
    "\n",
    "# Load user ratings\n",
    "raw_dataset_df = pd.read_csv('../data/not_raw/all_rating.csv')\n",
    "# raw_dataset_df = raw_dataset_df.append({\"user_id\":101, \"movie_id\":2, \"value\":4}, ignore_index=True)\n",
    "# print(raw_dataset_df.tail())\n",
    "\n",
    "# Convert the running list of user ratings into a matrix\n",
    "ratings_df = pd.pivot_table(raw_dataset_df, index='user_id', columns='movie_id', aggfunc=np.max)\n",
    "\n",
    "# Normalize the ratings (center them around their mean)\n",
    "normalized_ratings, means = functions.normalize_ratings(ratings_df.values)"
   ]
  },
  {
   "cell_type": "code",
   "execution_count": 2,
   "metadata": {},
   "outputs": [
    {
     "name": "stdout",
     "output_type": "stream",
     "text": [
      "Optimization terminated successfully.\n",
      "         Current function value: 106.443565\n",
      "         Iterations: 559\n",
      "         Function evaluations: 834\n",
      "         Gradient evaluations: 834\n"
     ]
    }
   ],
   "source": [
    "# Apply matrix factorization to find the latent features\n",
    "U, M = functions.low_rank_matrix_factorization(normalized_ratings,\n",
    "                                                                    num_features=11,\n",
    "                                                                    regularization_amount=1.1)"
   ]
  },
  {
   "cell_type": "code",
   "execution_count": 3,
   "metadata": {},
   "outputs": [
    {
     "name": "stdout",
     "output_type": "stream",
     "text": [
      "101\n"
     ]
    }
   ],
   "source": [
    "# Find all predicted ratings by multiplying U and M\n",
    "predicted_ratings = np.matmul(U, M)\n",
    "\n",
    "print(len(predicted_ratings))\n",
    "\n",
    "# Add back in the mean ratings for each product to de-normalize the predicted results\n",
    "predicted_ratings = predicted_ratings + means\n",
    "\n",
    "# Save features and predicted ratings to files for later use\n",
    "pickle.dump(U, open(\"user_features.dat\", \"wb\"))\n",
    "pickle.dump(M, open(\"product_features.dat\", \"wb\"))\n",
    "pickle.dump(predicted_ratings, open(\"predicted_ratings.dat\", \"wb\" ))\n",
    "pickle.dump(means, open(\"means.dat\", \"wb\" ))"
   ]
  }
 ],
 "metadata": {
  "kernelspec": {
   "display_name": "Python 3",
   "language": "python",
   "name": "python3"
  },
  "language_info": {
   "codemirror_mode": {
    "name": "ipython",
    "version": 3
   },
   "file_extension": ".py",
   "mimetype": "text/x-python",
   "name": "python",
   "nbconvert_exporter": "python",
   "pygments_lexer": "ipython3",
   "version": "3.6.5"
  }
 },
 "nbformat": 4,
 "nbformat_minor": 2
}
